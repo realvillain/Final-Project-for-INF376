{
 "cells": [
  {
   "cell_type": "markdown",
   "id": "27972de1-9e0a-470f-8f27-65d489ae61e5",
   "metadata": {},
   "source": [
    "Natural Language Processing - Final Project\n",
    "\n",
    "As the main dataset for the task of text classification was chosen: IMDB 50K Movie Reviews - https://www.kaggle.com/datasets/atulanandjha/imdb-50k-movie-reviews-test-your-bert"
   ]
  },
  {
   "cell_type": "markdown",
   "id": "1e69d4f2-a51e-492d-bc41-061372dbcf9c",
   "metadata": {},
   "source": [
    "The objective of this project is to implement text classification models and demonstrate their work using the example of film review sentiment classification. So, the task is to classify the feedback left by the user and determine the mood: negative or positive"
   ]
  },
  {
   "cell_type": "code",
   "execution_count": 20,
   "id": "c98e282a-82a1-478d-ba17-d89a94450137",
   "metadata": {},
   "outputs": [],
   "source": [
    "import os\n",
    "import pandas as pd\n",
    "import numpy as np\n",
    "import matplotlib.pyplot as plt\n",
    "import seaborn as sns\n",
    "\n",
    "from sklearn.feature_extraction.text import TfidfVectorizer\n",
    "from sklearn.model_selection import train_test_split\n",
    "from sklearn.metrics import accuracy_score, confusion_matrix"
   ]
  },
  {
   "cell_type": "code",
   "execution_count": 2,
   "id": "e877fde7",
   "metadata": {},
   "outputs": [
    {
     "name": "stdout",
     "output_type": "stream",
     "text": [
      "C:\\Users\\Admin\\Natural Language Processing Final Project\n"
     ]
    }
   ],
   "source": [
    "os.chdir(r\"C:\\Users\\Admin\\Natural Language Processing Final Project\")\n",
    "print(os.getcwd())"
   ]
  },
  {
   "cell_type": "code",
   "execution_count": 3,
   "id": "de8c833d-5da2-46a9-a0df-ab2a740a0887",
   "metadata": {},
   "outputs": [],
   "source": [
    "dir = \"data/\"\n",
    "train_csv = os.path.join(dir, \"train.csv\")\n",
    "test_csv  = os.path.join(dir, \"test.csv\")"
   ]
  },
  {
   "cell_type": "code",
   "execution_count": 4,
   "id": "3c1b65fe-cd54-47fd-91bf-2269aa8f8f82",
   "metadata": {},
   "outputs": [
    {
     "name": "stdout",
     "output_type": "stream",
     "text": [
      "(25000, 2)\n"
     ]
    },
    {
     "data": {
      "text/html": [
       "<div>\n",
       "<style scoped>\n",
       "    .dataframe tbody tr th:only-of-type {\n",
       "        vertical-align: middle;\n",
       "    }\n",
       "\n",
       "    .dataframe tbody tr th {\n",
       "        vertical-align: top;\n",
       "    }\n",
       "\n",
       "    .dataframe thead th {\n",
       "        text-align: right;\n",
       "    }\n",
       "</style>\n",
       "<table border=\"1\" class=\"dataframe\">\n",
       "  <thead>\n",
       "    <tr style=\"text-align: right;\">\n",
       "      <th></th>\n",
       "      <th>text</th>\n",
       "      <th>sentiment</th>\n",
       "    </tr>\n",
       "  </thead>\n",
       "  <tbody>\n",
       "    <tr>\n",
       "      <th>0</th>\n",
       "      <td>Now, I won't deny that when I purchased this o...</td>\n",
       "      <td>0</td>\n",
       "    </tr>\n",
       "    <tr>\n",
       "      <th>1</th>\n",
       "      <td>The saddest thing about this \"tribute\" is that...</td>\n",
       "      <td>0</td>\n",
       "    </tr>\n",
       "    <tr>\n",
       "      <th>2</th>\n",
       "      <td>Last night I decided to watch the prequel or s...</td>\n",
       "      <td>0</td>\n",
       "    </tr>\n",
       "    <tr>\n",
       "      <th>3</th>\n",
       "      <td>I have to admit that i liked the first half of...</td>\n",
       "      <td>0</td>\n",
       "    </tr>\n",
       "    <tr>\n",
       "      <th>4</th>\n",
       "      <td>I was not impressed about this film especially...</td>\n",
       "      <td>0</td>\n",
       "    </tr>\n",
       "  </tbody>\n",
       "</table>\n",
       "</div>"
      ],
      "text/plain": [
       "                                                text  sentiment\n",
       "0  Now, I won't deny that when I purchased this o...          0\n",
       "1  The saddest thing about this \"tribute\" is that...          0\n",
       "2  Last night I decided to watch the prequel or s...          0\n",
       "3  I have to admit that i liked the first half of...          0\n",
       "4  I was not impressed about this film especially...          0"
      ]
     },
     "execution_count": 4,
     "metadata": {},
     "output_type": "execute_result"
    }
   ],
   "source": [
    "test_df = pd.read_csv(test_csv, encoding='utf-8')\n",
    "train_df = pd.read_csv(train_csv, encoding='utf-8')\n",
    "\n",
    "test_df['sentiment'] = test_df['sentiment'].map({'pos': 1, 'neg': 0})\n",
    "train_df['sentiment'] = train_df['sentiment'].map({'pos': 1, 'neg': 0})\n",
    "\n",
    "print(train_df.shape)\n",
    "train_df.head()"
   ]
  },
  {
   "cell_type": "code",
   "execution_count": 5,
   "id": "5a293f03-cf67-4ef0-a063-54b3be165276",
   "metadata": {},
   "outputs": [
    {
     "name": "stdout",
     "output_type": "stream",
     "text": [
      "(25000, 2)\n"
     ]
    },
    {
     "data": {
      "text/html": [
       "<div>\n",
       "<style scoped>\n",
       "    .dataframe tbody tr th:only-of-type {\n",
       "        vertical-align: middle;\n",
       "    }\n",
       "\n",
       "    .dataframe tbody tr th {\n",
       "        vertical-align: top;\n",
       "    }\n",
       "\n",
       "    .dataframe thead th {\n",
       "        text-align: right;\n",
       "    }\n",
       "</style>\n",
       "<table border=\"1\" class=\"dataframe\">\n",
       "  <thead>\n",
       "    <tr style=\"text-align: right;\">\n",
       "      <th></th>\n",
       "      <th>text</th>\n",
       "      <th>sentiment</th>\n",
       "    </tr>\n",
       "  </thead>\n",
       "  <tbody>\n",
       "    <tr>\n",
       "      <th>0</th>\n",
       "      <td>My daughter liked it but I was aghast, that a ...</td>\n",
       "      <td>0</td>\n",
       "    </tr>\n",
       "    <tr>\n",
       "      <th>1</th>\n",
       "      <td>I... No words. No words can describe this. I w...</td>\n",
       "      <td>0</td>\n",
       "    </tr>\n",
       "    <tr>\n",
       "      <th>2</th>\n",
       "      <td>this film is basically a poor take on the old ...</td>\n",
       "      <td>0</td>\n",
       "    </tr>\n",
       "    <tr>\n",
       "      <th>3</th>\n",
       "      <td>This is a terrible movie, and I'm not even sur...</td>\n",
       "      <td>0</td>\n",
       "    </tr>\n",
       "    <tr>\n",
       "      <th>4</th>\n",
       "      <td>First of all this movie is a piece of reality ...</td>\n",
       "      <td>1</td>\n",
       "    </tr>\n",
       "  </tbody>\n",
       "</table>\n",
       "</div>"
      ],
      "text/plain": [
       "                                                text  sentiment\n",
       "0  My daughter liked it but I was aghast, that a ...          0\n",
       "1  I... No words. No words can describe this. I w...          0\n",
       "2  this film is basically a poor take on the old ...          0\n",
       "3  This is a terrible movie, and I'm not even sur...          0\n",
       "4  First of all this movie is a piece of reality ...          1"
      ]
     },
     "execution_count": 5,
     "metadata": {},
     "output_type": "execute_result"
    }
   ],
   "source": [
    "print(test_df.shape)\n",
    "test_df.head()"
   ]
  },
  {
   "cell_type": "code",
   "execution_count": 6,
   "id": "53c0c271-a5d5-4067-b685-11b653b69f36",
   "metadata": {},
   "outputs": [
    {
     "name": "stdout",
     "output_type": "stream",
     "text": [
      "Train DF\n",
      "text         0\n",
      "sentiment    0\n",
      "dtype: int64\n",
      "96\n",
      "\n",
      "\n",
      "Test DF\n",
      "text         0\n",
      "sentiment    0\n",
      "dtype: int64\n",
      "199\n"
     ]
    }
   ],
   "source": [
    "print('Train DF')\n",
    "print(train_df.isna().sum())\n",
    "print(train_df.duplicated().sum())\n",
    "print('\\n')\n",
    "print('Test DF')\n",
    "print(test_df.isna().sum())\n",
    "print(test_df.duplicated().sum())"
   ]
  },
  {
   "cell_type": "code",
   "execution_count": 7,
   "id": "5f9cb21a-5712-4b00-83b9-b8e221f9f1e1",
   "metadata": {},
   "outputs": [
    {
     "name": "stdout",
     "output_type": "stream",
     "text": [
      "0\n",
      "0\n"
     ]
    }
   ],
   "source": [
    "train_df = train_df.drop_duplicates(subset='text')\n",
    "print(train_df.duplicated().sum())\n",
    "test_df = test_df.drop_duplicates(subset='text')\n",
    "print(test_df.duplicated().sum())"
   ]
  },
  {
   "cell_type": "code",
   "execution_count": 8,
   "id": "51846626-7e92-4f76-977b-4a18f8a7520d",
   "metadata": {},
   "outputs": [
    {
     "data": {
      "image/png": "[encoded data removed]",
      "text/plain": [
       "<Figure size 640x480 with 1 Axes>"
      ]
     },
     "metadata": {},
     "output_type": "display_data"
    }
   ],
   "source": [
    "sns.countplot(x=\"sentiment\", data=train_df)\n",
    "\n",
    "plt.title(\"class distribution\")\n",
    "plt.show()"
   ]
  },
  {
   "cell_type": "markdown",
   "id": "d075b01c-0366-4be4-8843-8f93ee9d2f0f",
   "metadata": {},
   "source": [
    "STAGE I"
   ]
  },
  {
   "cell_type": "code",
   "execution_count": 9,
   "id": "9a28e226-c9da-4027-9896-1ec5375588b6",
   "metadata": {},
   "outputs": [
    {
     "name": "stdout",
     "output_type": "stream",
     "text": [
      "WARNING:tensorflow:From C:\\Users\\Admin\\AppData\\Local\\Programs\\Python\\Python310\\lib\\site-packages\\keras\\src\\losses.py:2976: The name tf.losses.sparse_softmax_cross_entropy is deprecated. Please use tf.compat.v1.losses.sparse_softmax_cross_entropy instead.\n",
      "\n"
     ]
    }
   ],
   "source": [
    "from src.preprocessing import preprocess_custom\n",
    "from src.models import train_random_forest"
   ]
  },
  {
   "cell_type": "code",
   "execution_count": 10,
   "id": "de439fed",
   "metadata": {},
   "outputs": [
    {
     "name": "stderr",
     "output_type": "stream",
     "text": [
      "[nltk_data] Downloading package omw-1.4 to\n",
      "[nltk_data]     C:\\Users\\Admin\\AppData\\Roaming\\nltk_data...\n",
      "[nltk_data]   Package omw-1.4 is already up-to-date!\n"
     ]
    },
    {
     "data": {
      "text/plain": [
       "True"
      ]
     },
     "execution_count": 10,
     "metadata": {},
     "output_type": "execute_result"
    }
   ],
   "source": [
    "import nltk\n",
    "nltk.download('omw-1.4')"
   ]
  },
  {
   "cell_type": "code",
   "execution_count": 11,
   "id": "23a30bc6-e84b-4a31-96ca-d78016031099",
   "metadata": {},
   "outputs": [],
   "source": [
    "train_df['text'] = preprocess_custom(train_df['text'])\n",
    "test_df['text'] = preprocess_custom(test_df['text'])"
   ]
  },
  {
   "cell_type": "code",
   "execution_count": 12,
   "id": "a2fa3790-d0fa-46a4-bb10-9bec43c41ee6",
   "metadata": {},
   "outputs": [
    {
     "data": {
      "text/html": [
       "<div>\n",
       "<style scoped>\n",
       "    .dataframe tbody tr th:only-of-type {\n",
       "        vertical-align: middle;\n",
       "    }\n",
       "\n",
       "    .dataframe tbody tr th {\n",
       "        vertical-align: top;\n",
       "    }\n",
       "\n",
       "    .dataframe thead th {\n",
       "        text-align: right;\n",
       "    }\n",
       "</style>\n",
       "<table border=\"1\" class=\"dataframe\">\n",
       "  <thead>\n",
       "    <tr style=\"text-align: right;\">\n",
       "      <th></th>\n",
       "      <th>text</th>\n",
       "      <th>sentiment</th>\n",
       "    </tr>\n",
       "  </thead>\n",
       "  <tbody>\n",
       "    <tr>\n",
       "      <th>0</th>\n",
       "      <td>wont deny purchased ebay high expectation incr...</td>\n",
       "      <td>0</td>\n",
       "    </tr>\n",
       "    <tr>\n",
       "      <th>1</th>\n",
       "      <td>saddest thing tribute almost singer including ...</td>\n",
       "      <td>0</td>\n",
       "    </tr>\n",
       "    <tr>\n",
       "      <th>2</th>\n",
       "      <td>last night decided watch prequel shall say cal...</td>\n",
       "      <td>0</td>\n",
       "    </tr>\n",
       "  </tbody>\n",
       "</table>\n",
       "</div>"
      ],
      "text/plain": [
       "                                                text  sentiment\n",
       "0  wont deny purchased ebay high expectation incr...          0\n",
       "1  saddest thing tribute almost singer including ...          0\n",
       "2  last night decided watch prequel shall say cal...          0"
      ]
     },
     "execution_count": 12,
     "metadata": {},
     "output_type": "execute_result"
    }
   ],
   "source": [
    "train_df.head(3)"
   ]
  },
  {
   "cell_type": "code",
   "execution_count": 13,
   "id": "486a1add-3c8e-44f3-95f4-c0fa02f186cf",
   "metadata": {},
   "outputs": [
    {
     "data": {
      "text/html": [
       "<div>\n",
       "<style scoped>\n",
       "    .dataframe tbody tr th:only-of-type {\n",
       "        vertical-align: middle;\n",
       "    }\n",
       "\n",
       "    .dataframe tbody tr th {\n",
       "        vertical-align: top;\n",
       "    }\n",
       "\n",
       "    .dataframe thead th {\n",
       "        text-align: right;\n",
       "    }\n",
       "</style>\n",
       "<table border=\"1\" class=\"dataframe\">\n",
       "  <thead>\n",
       "    <tr style=\"text-align: right;\">\n",
       "      <th></th>\n",
       "      <th>text</th>\n",
       "      <th>sentiment</th>\n",
       "    </tr>\n",
       "  </thead>\n",
       "  <tbody>\n",
       "    <tr>\n",
       "      <th>0</th>\n",
       "      <td>daughter liked aghast character movie smoke is...</td>\n",
       "      <td>0</td>\n",
       "    </tr>\n",
       "    <tr>\n",
       "      <th>1</th>\n",
       "      <td>word word describe try sake brave people stick...</td>\n",
       "      <td>0</td>\n",
       "    </tr>\n",
       "    <tr>\n",
       "      <th>2</th>\n",
       "      <td>film basically poor take old urban legend baby...</td>\n",
       "      <td>0</td>\n",
       "    </tr>\n",
       "  </tbody>\n",
       "</table>\n",
       "</div>"
      ],
      "text/plain": [
       "                                                text  sentiment\n",
       "0  daughter liked aghast character movie smoke is...          0\n",
       "1  word word describe try sake brave people stick...          0\n",
       "2  film basically poor take old urban legend baby...          0"
      ]
     },
     "execution_count": 13,
     "metadata": {},
     "output_type": "execute_result"
    }
   ],
   "source": [
    "test_df.head(3)"
   ]
  },
  {
   "cell_type": "code",
   "execution_count": 25,
   "id": "c8a6e1b1-72d5-4239-82f8-42425e943357",
   "metadata": {},
   "outputs": [],
   "source": [
    "tfidf = TfidfVectorizer(max_features=5000)\n",
    "\n",
    "X_tfidf = tfidf.fit_transform(train_df['text'])"
   ]
  },
  {
   "cell_type": "code",
   "execution_count": 26,
   "id": "b562bf0d-0dc2-4d1f-8db6-a88fa737de8e",
   "metadata": {},
   "outputs": [],
   "source": [
    "X_train_1, X_test_1, y_train_1, y_test_1 = train_test_split(X_tfidf, train_df['sentiment'], test_size=0.2, random_state=42)"
   ]
  },
  {
   "cell_type": "code",
   "execution_count": 27,
   "id": "0be29d01-651b-4fb9-a8f4-91917d528151",
   "metadata": {},
   "outputs": [],
   "source": [
    "rf_model = train_random_forest(X_train_1, y_train_1)"
   ]
  },
  {
   "cell_type": "code",
   "execution_count": 28,
   "id": "3b7d2da9-90d1-4082-9e35-712ca8e71637",
   "metadata": {},
   "outputs": [],
   "source": [
    "y_pred1 = rf_model.predict(X_test_1)\n",
    "accuracy1 = accuracy_score(y_test_1, y_pred1)\n",
    "conf_matrix1 = confusion_matrix(y_test_1, y_pred1)"
   ]
  },
  {
   "cell_type": "code",
   "execution_count": 29,
   "id": "414180ea-c76e-40bf-8da6-2b605fadc9fc",
   "metadata": {},
   "outputs": [
    {
     "name": "stdout",
     "output_type": "stream",
     "text": [
      "0.8357759486046978\n",
      "[[2046  387]\n",
      " [ 431 2117]]\n"
     ]
    }
   ],
   "source": [
    "print(accuracy1)\n",
    "print(conf_matrix1)"
   ]
  },
  {
   "cell_type": "markdown",
   "id": "c290357c-cb8a-4a14-9bd1-1134953a74ad",
   "metadata": {},
   "source": [
    "STAGE II"
   ]
  },
  {
   "cell_type": "markdown",
   "id": "53fed4ee-2a87-4918-978b-76a5b284836a",
   "metadata": {},
   "source": [
    "Keras Embeddings with 1D Convolution"
   ]
  },
  {
   "cell_type": "code",
   "execution_count": 30,
   "id": "cd3f2f65-2deb-4ccc-849d-3b57433dd45e",
   "metadata": {},
   "outputs": [],
   "source": [
    "from src.preprocessing import tokengen\n",
    "from src.models import create_conv1d_model\n",
    "\n",
    "texts = train_df['text'].astype(str).tolist()\n",
    "labels = train_df['sentiment'].astype(int).tolist()\n",
    "\n",
    "tokenizer, padded = tokengen(texts)"
   ]
  },
  {
   "cell_type": "code",
   "execution_count": 31,
   "id": "400ec2bd-1a66-4662-8066-c997dfe431d5",
   "metadata": {},
   "outputs": [],
   "source": [
    "X_train_2, X_val_2, y_train_2, y_val_2 = train_test_split(padded, labels, test_size=0.2, random_state=42)"
   ]
  },
  {
   "cell_type": "code",
   "execution_count": 32,
   "id": "2a59c7ff",
   "metadata": {},
   "outputs": [],
   "source": [
    "vocab_size = len(tokenizer.word_index) + 1\n",
    "embedding_dim = 128\n",
    "max_len = 200"
   ]
  },
  {
   "cell_type": "code",
   "execution_count": 33,
   "id": "f9f80d07",
   "metadata": {},
   "outputs": [
    {
     "name": "stdout",
     "output_type": "stream",
     "text": [
      "WARNING:tensorflow:From C:\\Users\\Admin\\AppData\\Local\\Programs\\Python\\Python310\\lib\\site-packages\\keras\\src\\backend.py:873: The name tf.get_default_graph is deprecated. Please use tf.compat.v1.get_default_graph instead.\n",
      "\n",
      "WARNING:tensorflow:From C:\\Users\\Admin\\AppData\\Local\\Programs\\Python\\Python310\\lib\\site-packages\\keras\\src\\backend.py:6642: The name tf.nn.max_pool is deprecated. Please use tf.nn.max_pool2d instead.\n",
      "\n",
      "WARNING:tensorflow:From C:\\Users\\Admin\\AppData\\Local\\Programs\\Python\\Python310\\lib\\site-packages\\keras\\src\\optimizers\\__init__.py:309: The name tf.train.Optimizer is deprecated. Please use tf.compat.v1.train.Optimizer instead.\n",
      "\n"
     ]
    }
   ],
   "source": [
    "model2 = create_conv1d_model(vocab_size, embedding_dim, max_len)"
   ]
  },
  {
   "cell_type": "code",
   "execution_count": 34,
   "id": "d9d80354",
   "metadata": {},
   "outputs": [],
   "source": [
    "y_train_2 = np.array(y_train_2)\n",
    "y_val_2 = np.array(y_val_2)"
   ]
  },
  {
   "cell_type": "code",
   "execution_count": null,
   "id": "6beb9843",
   "metadata": {},
   "outputs": [
    {
     "name": "stdout",
     "output_type": "stream",
     "text": [
      "Epoch 1/5\n",
      "WARNING:tensorflow:From C:\\Users\\Admin\\AppData\\Local\\Programs\\Python\\Python310\\lib\\site-packages\\keras\\src\\utils\\tf_utils.py:492: The name tf.ragged.RaggedTensorValue is deprecated. Please use tf.compat.v1.ragged.RaggedTensorValue instead.\n",
      "\n",
      "WARNING:tensorflow:From C:\\Users\\Admin\\AppData\\Local\\Programs\\Python\\Python310\\lib\\site-packages\\keras\\src\\engine\\base_layer_utils.py:384: The name tf.executing_eagerly_outside_functions is deprecated. Please use tf.compat.v1.executing_eagerly_outside_functions instead.\n",
      "\n",
      "312/312 [==============================] - 34s 108ms/step - loss: 0.4379 - accuracy: 0.7770 - val_loss: 0.2920 - val_accuracy: 0.8805\n",
      "Epoch 2/5\n",
      "312/312 [==============================] - 33s 106ms/step - loss: 0.1696 - accuracy: 0.9392 - val_loss: 0.3072 - val_accuracy: 0.8826\n",
      "Epoch 3/5\n",
      "253/312 [=======================>......] - ETA: 6s - loss: 0.0594 - accuracy: 0.9823"
     ]
    }
   ],
   "source": [
    "history = model2.fit(X_train_2, y_train_2, epochs=5, batch_size=64, validation_data=(X_val_2, y_val_2))"
   ]
  },
  {
   "cell_type": "code",
   "execution_count": null,
   "id": "4d7620f6",
   "metadata": {},
   "outputs": [],
   "source": [
    "_, accuracy2 = model2.evaluate(X_val_2, y_val_2)\n",
    "y_pred2 = model2.predict(X_val_2)\n",
    "y_pred2_classes = (y_pred > 0.5).astype(int) if len(set(y)) == 2 else y_pred.argmax(axis=1)\n",
    "conf_matrix2 = confusion_matrix(y_test, y_pred_classes)"
   ]
  },
  {
   "cell_type": "markdown",
   "id": "0265ea9a-e832-4967-8b8b-13a20af4bce9",
   "metadata": {},
   "source": [
    "Word2Vec Embedding with LSTM"
   ]
  },
  {
   "cell_type": "code",
   "execution_count": null,
   "id": "0474d66d-64c8-4b49-b03b-1c62744ea868",
   "metadata": {},
   "outputs": [],
   "source": []
  },
  {
   "cell_type": "markdown",
   "id": "1086b373-2a77-4ca0-867d-fad5c7850fb1",
   "metadata": {},
   "source": [
    "STAGE III"
   ]
  },
  {
   "cell_type": "code",
   "execution_count": null,
   "id": "c5136c5c-85de-499c-b2a1-60188d85c790",
   "metadata": {},
   "outputs": [],
   "source": []
  }
 ],
 "metadata": {
  "kernelspec": {
   "display_name": "Python 3 (ipykernel)",
   "language": "python",
   "name": "python3"
  },
  "language_info": {
   "codemirror_mode": {
    "name": "ipython",
    "version": 3
   },
   "file_extension": ".py",
   "mimetype": "text/x-python",
   "name": "python",
   "nbconvert_exporter": "python",
   "pygments_lexer": "ipython3",
   "version": "3.10.2"
  }
 },
 "nbformat": 4,
 "nbformat_minor": 5
}
