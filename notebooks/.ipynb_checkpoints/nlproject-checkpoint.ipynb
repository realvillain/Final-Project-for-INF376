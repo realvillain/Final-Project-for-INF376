{
 "cells": [
  {
   "cell_type": "markdown",
   "id": "27972de1-9e0a-470f-8f27-65d489ae61e5",
   "metadata": {},
   "source": [
    "Natural Language Processing - Final Project"
   ]
  },
  {
   "cell_type": "code",
   "execution_count": 1,
   "id": "c98e282a-82a1-478d-ba17-d89a94450137",
   "metadata": {},
   "outputs": [
    {
     "name": "stdout",
     "output_type": "stream",
     "text": [
      "Text classification\n"
     ]
    }
   ],
   "source": [
    "print('Text classification')"
   ]
  },
  {
   "cell_type": "code",
   "execution_count": null,
   "id": "de8c833d-5da2-46a9-a0df-ab2a740a0887",
   "metadata": {},
   "outputs": [],
   "source": []
  }
 ],
 "metadata": {
  "kernelspec": {
   "display_name": "Python 3 (ipykernel)",
   "language": "python",
   "name": "python3"
  },
  "language_info": {
   "codemirror_mode": {
    "name": "ipython",
    "version": 3
   },
   "file_extension": ".py",
   "mimetype": "text/x-python",
   "name": "python",
   "nbconvert_exporter": "python",
   "pygments_lexer": "ipython3",
   "version": "3.10.2"
  }
 },
 "nbformat": 4,
 "nbformat_minor": 5
}
